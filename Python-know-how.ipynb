{
 "cells": [
  {
   "attachments": {},
   "cell_type": "markdown",
   "metadata": {},
   "source": [
    "# Python"
   ]
  },
  {
   "attachments": {},
   "cell_type": "markdown",
   "metadata": {},
   "source": [
    "<br>![Python-Banner](img\\python-banner.png)"
   ]
  },
  {
   "attachments": {},
   "cell_type": "markdown",
   "metadata": {},
   "source": [
    "#### Gitlab repo\n",
    "\n",
    "https://gitlab.agile.nat.bt.com/612479706/python-know-how.git"
   ]
  },
  {
   "attachments": {},
   "cell_type": "markdown",
   "metadata": {},
   "source": [
    "### Getting Started"
   ]
  },
  {
   "attachments": {},
   "cell_type": "markdown",
   "metadata": {},
   "source": [
    "Get Python from Software Center (v3.7+)\n",
    "<br>![Python-versions](img\\python-versions-sc.png)"
   ]
  },
  {
   "attachments": {},
   "cell_type": "markdown",
   "metadata": {},
   "source": [
    "Get an IDE from Software Center (like VS Code)\n",
    "<br>![VSC](img\\vsc.png)"
   ]
  },
  {
   "attachments": {},
   "cell_type": "markdown",
   "metadata": {},
   "source": [
    "Get Git Client (Optional)\n",
    "<br> ![Git-Client](img\\git-client.png)"
   ]
  },
  {
   "attachments": {},
   "cell_type": "markdown",
   "metadata": {},
   "source": [
    "### Python Basics"
   ]
  },
  {
   "attachments": {},
   "cell_type": "markdown",
   "metadata": {},
   "source": [
    "__Variables and Data Types__: In Python, variables are used to store values such as numbers, strings, or lists. Data types in Python include integers, floats, booleans, strings, and lists."
   ]
  },
  {
   "cell_type": "code",
   "execution_count": 1,
   "metadata": {},
   "outputs": [
    {
     "name": "stdout",
     "output_type": "stream",
     "text": [
      "Val of a: 15\n",
      "Val of A: 40\n"
     ]
    }
   ],
   "source": [
    "## Case Sensitive\n",
    "a = 15\n",
    "A = 40\n",
    "\n",
    "print(f\"Val of a: {a}\")\n",
    "print(f\"Val of A: {A}\")"
   ]
  },
  {
   "attachments": {},
   "cell_type": "markdown",
   "metadata": {},
   "source": [
    "__Control Structures__: Python has control structures such as conditional statements (if/else), loops (for/while), and functions to control the flow of the program."
   ]
  },
  {
   "cell_type": "code",
   "execution_count": 6,
   "metadata": {},
   "outputs": [],
   "source": [
    "b = 4\n",
    "c = 7"
   ]
  },
  {
   "cell_type": "code",
   "execution_count": 8,
   "metadata": {},
   "outputs": [
    {
     "name": "stdout",
     "output_type": "stream",
     "text": [
      "if\n"
     ]
    }
   ],
   "source": [
    "if a == 15:\n",
    "    print(f\"This is if\")\n",
    "elif A == 40:\n",
    "    print(f\"This is elif\")\n",
    "else:\n",
    "    print(f\"This is else\")"
   ]
  },
  {
   "attachments": {},
   "cell_type": "markdown",
   "metadata": {},
   "source": [
    "__Data Structures__: Python provides various data structures, such as lists, tuples, and dictionaries, to store and manipulate data."
   ]
  },
  {
   "cell_type": "code",
   "execution_count": 9,
   "metadata": {},
   "outputs": [],
   "source": [
    "fruitList = ['Apple', 'Orange', 'Banana']\n",
    "fruitTuple = ('Apple', 'Orange', 'Banana')\n",
    "fruitDict = {'Apple':1, 'Orange':5, 'Banana':12}"
   ]
  },
  {
   "cell_type": "code",
   "execution_count": 10,
   "metadata": {},
   "outputs": [
    {
     "data": {
      "text/plain": [
       "'Orange'"
      ]
     },
     "execution_count": 10,
     "metadata": {},
     "output_type": "execute_result"
    }
   ],
   "source": [
    "fruitList[1]"
   ]
  },
  {
   "cell_type": "code",
   "execution_count": 12,
   "metadata": {},
   "outputs": [
    {
     "data": {
      "text/plain": [
       "'Banana'"
      ]
     },
     "execution_count": 12,
     "metadata": {},
     "output_type": "execute_result"
    }
   ],
   "source": [
    "fruitTuple[2]"
   ]
  },
  {
   "cell_type": "code",
   "execution_count": 13,
   "metadata": {},
   "outputs": [
    {
     "data": {
      "text/plain": [
       "1"
      ]
     },
     "execution_count": 13,
     "metadata": {},
     "output_type": "execute_result"
    }
   ],
   "source": [
    "fruitDict['Apple']"
   ]
  },
  {
   "cell_type": "code",
   "execution_count": 14,
   "metadata": {},
   "outputs": [
    {
     "data": {
      "text/plain": [
       "dict_keys(['Apple', 'Orange', 'Banana'])"
      ]
     },
     "execution_count": 14,
     "metadata": {},
     "output_type": "execute_result"
    }
   ],
   "source": [
    "fruitDict.keys()"
   ]
  },
  {
   "cell_type": "code",
   "execution_count": 15,
   "metadata": {},
   "outputs": [
    {
     "data": {
      "text/plain": [
       "dict_items([('Apple', 1), ('Orange', 5), ('Banana', 12)])"
      ]
     },
     "execution_count": 15,
     "metadata": {},
     "output_type": "execute_result"
    }
   ],
   "source": [
    "fruitDict.items()"
   ]
  },
  {
   "attachments": {},
   "cell_type": "markdown",
   "metadata": {},
   "source": [
    "__Input/Output__: Python has built-in functions for input and output, such as print() for output and input() for user input."
   ]
  },
  {
   "cell_type": "code",
   "execution_count": 17,
   "metadata": {},
   "outputs": [
    {
     "name": "stdout",
     "output_type": "stream",
     "text": [
      "My name is Naveen\n"
     ]
    }
   ],
   "source": [
    "myName = input('Enter your name: ')\n",
    "print(f\"My name is {myName}\")"
   ]
  },
  {
   "attachments": {},
   "cell_type": "markdown",
   "metadata": {},
   "source": [
    "__Functions__: Functions are used to group a set of related statements that perform a specific task. In Python, functions are defined using the def keyword."
   ]
  },
  {
   "cell_type": "code",
   "execution_count": 18,
   "metadata": {},
   "outputs": [
    {
     "data": {
      "text/plain": [
       "19"
      ]
     },
     "execution_count": 18,
     "metadata": {},
     "output_type": "execute_result"
    }
   ],
   "source": [
    "def add(a, b):\n",
    "    return a+b\n",
    "\n",
    "add(a,b)"
   ]
  },
  {
   "attachments": {},
   "cell_type": "markdown",
   "metadata": {},
   "source": [
    "__Modules__: Python has a vast standard library that provides various modules to perform specific tasks. You can also create your own modules for reuse in different projects.\n",
    "1. os - provides functions to interact with operating system\n",
    "2. re - provides support for regular expressions\n",
    "3. datetime - provides functionalities to handle dates, times, timezones and deltas"
   ]
  },
  {
   "attachments": {},
   "cell_type": "markdown",
   "metadata": {},
   "source": [
    "__Libraries__: Python has many third-party libraries for different applications such as data analysis (Pandas), web development (Flask, Django), machine learning (Scikit-learn), and scientific computing (NumPy, SciPy)."
   ]
  },
  {
   "attachments": {},
   "cell_type": "markdown",
   "metadata": {},
   "source": [
    "__Object-Oriented Programming (OOP)__: Python supports OOP concepts such as classes, objects, inheritance, and polymorphism."
   ]
  },
  {
   "cell_type": "code",
   "execution_count": 19,
   "metadata": {},
   "outputs": [
    {
     "name": "stdout",
     "output_type": "stream",
     "text": [
      "Name of dog1 is Blizard and dog2 is called Mini\n"
     ]
    }
   ],
   "source": [
    "class Dog:\n",
    "    def __init__(self, species, name):\n",
    "        self.species = species\n",
    "        self.name = name\n",
    "\n",
    "dog1 = Dog('Labrador', 'Blizard')\n",
    "dog2 = Dog('Pug', 'Mini')\n",
    "\n",
    "print(f\"Name of dog1 is {dog1.name} and dog2 is called {dog2.name}\")"
   ]
  },
  {
   "attachments": {},
   "cell_type": "markdown",
   "metadata": {},
   "source": [
    "### My UseCase"
   ]
  },
  {
   "attachments": {},
   "cell_type": "markdown",
   "metadata": {},
   "source": [
    "#### 1. RFS queue Signoff\n",
    "\n",
    "We had to signoff RFS requests based on whether they are discovered or not in UCMDB. If not discovered, why ? and does it need a user intervention ?\n",
    "\n",
    "\n",
    "The queue was a sharepoint list. UCMDB was an application on Linux server with Oracle database in the backend.\n",
    "<br>The process involved a lot of manual data gathering, lookups in excel and individual user contact.</br>\n",
    "<br>![VSG-Before](img\\VSG-Before.jpg)"
   ]
  },
  {
   "attachments": {},
   "cell_type": "markdown",
   "metadata": {},
   "source": [
    "Manual approach is time consuming and error prone.\n",
    "<br> This was the inspiration to get it done with a single command.\n",
    "<br> List out the problems, Take one problem at a time, solve it and take the next.\n",
    "<br> The final picture after solving and linking all together looks like below\n",
    "\n",
    "<br> __Libraries and Modules used__: pandas, requests, os, sys, glob, datetime, shareplum, getpass, urllib3, win32com.client, tqdm\n",
    "\n",
    "<br> ![VSG-Now](img\\VSG-Now.jpg)"
   ]
  },
  {
   "attachments": {},
   "cell_type": "markdown",
   "metadata": {},
   "source": [
    "#### 2. IP Reshuffle\n",
    "\n",
    "IP Subnets were non-standard and used a cluster based approach in UCMDB. This needed to be standardised and then split across individual probes based on the live IPs in each subnet.\n",
    "![Reshuffle-problems](img\\Reshuffle-problems.png)"
   ]
  },
  {
   "attachments": {},
   "cell_type": "markdown",
   "metadata": {},
   "source": [
    "The solution was again using the Python.\n",
    "<br> __Libraries and Modules Used__: pandas, ipaddress, requests, urllib3, os, sys\n",
    "\n",
    "<br> ![Reshuffle_high_level.png](img\\Reshuffle_high_level.png)"
   ]
  },
  {
   "attachments": {},
   "cell_type": "markdown",
   "metadata": {},
   "source": []
  }
 ],
 "metadata": {
  "kernelspec": {
   "display_name": "Python 3",
   "language": "python",
   "name": "python3"
  },
  "language_info": {
   "codemirror_mode": {
    "name": "ipython",
    "version": 3
   },
   "file_extension": ".py",
   "mimetype": "text/x-python",
   "name": "python",
   "nbconvert_exporter": "python",
   "pygments_lexer": "ipython3",
   "version": "3.9.13"
  },
  "orig_nbformat": 4
 },
 "nbformat": 4,
 "nbformat_minor": 2
}
